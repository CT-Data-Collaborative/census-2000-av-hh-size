{
 "cells": [
  {
   "cell_type": "markdown",
   "metadata": {},
   "source": [
    "# Household Size by town\n",
    "## Census 2000 API\n",
    "\n",
    "* Census 2000 variables: https://api.census.gov/data/2000/sf1/variables.html\n",
    "* Census 2000 geographies: https://api.census.gov/data/2000/sf1/examples.html"
   ]
  },
  {
   "cell_type": "code",
   "execution_count": 1,
   "metadata": {},
   "outputs": [],
   "source": [
    "import pandas as pd"
   ]
  },
  {
   "cell_type": "code",
   "execution_count": 30,
   "metadata": {},
   "outputs": [],
   "source": [
    "def get_hh_size(county):\n",
    "    url = 'https://api.census.gov/data/2000/sf1?get=H012001&for=county%20subdivision:*&in=state:09%20county:'\n",
    "    df = pd.read_json(url + county)\n",
    "    \n",
    "    # Remove header row (first), and undefined geographies\n",
    "    return df[(df[3] != '00000') & (df[3] != 'county subdivision')]"
   ]
  },
  {
   "cell_type": "code",
   "execution_count": 33,
   "metadata": {},
   "outputs": [],
   "source": [
    "dfs = ['{:03d}'.format(x) for x in range(1, 16, 2)]\n",
    "\n",
    "# Get dataframe for each county\n",
    "dfs = [get_hh_size(x) for x in dfs]"
   ]
  },
  {
   "cell_type": "code",
   "execution_count": 41,
   "metadata": {},
   "outputs": [],
   "source": [
    "hh_size = pd.concat(dfs)\n",
    "hh_size.columns = ['household_size', 'state', 'county', 'subdivision']\n",
    "\n",
    "hh_size['fips'] = hh_size['state'] + hh_size['county'] + hh_size['subdivision']"
   ]
  },
  {
   "cell_type": "code",
   "execution_count": 45,
   "metadata": {},
   "outputs": [
    {
     "data": {
      "text/html": [
       "<div>\n",
       "<style scoped>\n",
       "    .dataframe tbody tr th:only-of-type {\n",
       "        vertical-align: middle;\n",
       "    }\n",
       "\n",
       "    .dataframe tbody tr th {\n",
       "        vertical-align: top;\n",
       "    }\n",
       "\n",
       "    .dataframe thead th {\n",
       "        text-align: right;\n",
       "    }\n",
       "</style>\n",
       "<table border=\"1\" class=\"dataframe\">\n",
       "  <thead>\n",
       "    <tr style=\"text-align: right;\">\n",
       "      <th></th>\n",
       "      <th>Town</th>\n",
       "      <th>FIPS</th>\n",
       "    </tr>\n",
       "  </thead>\n",
       "  <tbody>\n",
       "    <tr>\n",
       "      <th>0</th>\n",
       "      <td>Andover</td>\n",
       "      <td>0901301080</td>\n",
       "    </tr>\n",
       "    <tr>\n",
       "      <th>1</th>\n",
       "      <td>Ansonia</td>\n",
       "      <td>0900901220</td>\n",
       "    </tr>\n",
       "    <tr>\n",
       "      <th>2</th>\n",
       "      <td>Ashford</td>\n",
       "      <td>0901501430</td>\n",
       "    </tr>\n",
       "    <tr>\n",
       "      <th>3</th>\n",
       "      <td>Avon</td>\n",
       "      <td>0900302060</td>\n",
       "    </tr>\n",
       "    <tr>\n",
       "      <th>4</th>\n",
       "      <td>Barkhamsted</td>\n",
       "      <td>0900502760</td>\n",
       "    </tr>\n",
       "  </tbody>\n",
       "</table>\n",
       "</div>"
      ],
      "text/plain": [
       "          Town        FIPS\n",
       "0      Andover  0901301080\n",
       "1      Ansonia  0900901220\n",
       "2      Ashford  0901501430\n",
       "3         Avon  0900302060\n",
       "4  Barkhamsted  0900502760"
      ]
     },
     "execution_count": 45,
     "metadata": {},
     "output_type": "execute_result"
    }
   ],
   "source": [
    "# Town to county list\n",
    "fips2town = pd.read_csv(\n",
    "    'https://raw.githubusercontent.com/CT-Data-Collaborative/ct-town-county-fips-list/master/ct-town-county-fips-list.csv',\n",
    "    usecols=[0,2],\n",
    "    dtype=str\n",
    ")\n",
    "\n",
    "fips2town.head()"
   ]
  },
  {
   "cell_type": "code",
   "execution_count": 49,
   "metadata": {},
   "outputs": [],
   "source": [
    "data = hh_size.merge(fips2town, left_on='fips', right_on='FIPS')\n",
    "data.filter(['Town', 'household_size']).to_csv('./census-2000-hh-size.csv', index=False)"
   ]
  },
  {
   "cell_type": "code",
   "execution_count": null,
   "metadata": {},
   "outputs": [],
   "source": []
  }
 ],
 "metadata": {
  "kernelspec": {
   "display_name": "Python 3",
   "language": "python",
   "name": "python3"
  },
  "language_info": {
   "codemirror_mode": {
    "name": "ipython",
    "version": 3
   },
   "file_extension": ".py",
   "mimetype": "text/x-python",
   "name": "python",
   "nbconvert_exporter": "python",
   "pygments_lexer": "ipython3",
   "version": "3.7.3"
  }
 },
 "nbformat": 4,
 "nbformat_minor": 4
}
